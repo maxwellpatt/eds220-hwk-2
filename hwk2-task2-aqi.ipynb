{
 "cells": [
  {
   "cell_type": "markdown",
   "metadata": {},
   "source": [
    "# Task 2\n",
    "\n",
    "## General instructions\n",
    "\n",
    "First, update the following cell to have a link to your Homework 1 GitHub repository\n",
    "\n",
    "**UPDATE THIS LINK**\n",
    "https://github.com/maxwellpatt/eds220-hwk-2\n",
    "\n",
    "Add comments for all your code and commit as needed. Err on the side of commenting and commiting too much for now.\n",
    "\n",
    "\n",
    "## About the data\n",
    "\n",
    "In this task you will use [Air Quality Index (AQI)](https://www.airnow.gov/aqi/aqi-basics/) data from the [US Environmental Protection Agency](https://www.epa.gov) to visualize the impact on the AQI of the 2017 [Thomas Fire](https://en.wikipedia.org/wiki/Thomas_Fire) in Santa Barbara County. "
   ]
  },
  {
   "cell_type": "markdown",
   "metadata": {},
   "source": [
    "## FINAL CODE\n",
    "\n",
    "You will use the next cell at the end of the task. Leave it blank for now. "
   ]
  },
  {
   "cell_type": "code",
   "execution_count": null,
   "metadata": {},
   "outputs": [],
   "source": [
    "# import libraries\n",
    "import pandas as pd\n",
    "import matplotlib.pyplot as plt\n",
    "\n",
    "# read in data\n",
    "aqi_17 = pd.read_csv(\"https://aqs.epa.gov/aqsweb/airdata/daily_aqi_by_county_2017.zip\")\n",
    "aqi_18 = pd.read_csv(\"https://aqs.epa.gov/aqsweb/airdata/daily_aqi_by_county_2018.zip\")\n",
    "\n",
    "# show head of aqi_17\n",
    "# aqi_17.head\n",
    "\n",
    "# show head of aqi_18\n",
    "# aqi_18.head\n",
    "\n",
    "# get datatypes of each column for each data set\n",
    "dtypes_17 = aqi_17.dtypes\n",
    "dtypes_18 = aqi_18.dtypes\n",
    "\n",
    "# show results\n",
    "# print(dtypes_17)\n",
    "# print(dtypes_18)\n",
    "\n",
    "# store info of each data set\n",
    "info_17 = aqi_17.info\n",
    "info_18 = aqi_18.info\n",
    "\n",
    "# show results\n",
    "# print(info_17)\n",
    "# print(info_18)\n",
    "\n",
    "# concatenate the two data frames\n",
    "aqi = pd.concat([aqi_17, aqi_18])\n",
    "\n",
    "# show concatenated results\n",
    "# aqi\n",
    "\n",
    "# initial column names: notice caps and spaces (difficult to work with!)\n",
    "# print(aqi.columns, '\\n')\n",
    "\n",
    "# re-assign the column names - .str.lower() makes them lower case\n",
    "aqi.columns = aqi.columns.str.lower()\n",
    "# print(aqi.columns, '\\n')\n",
    "\n",
    "#  re-assign the column names again - .str.replace(' ','_') replaces the space for _\n",
    "aqi.columns = aqi.columns.str.replace(' ','_')\n",
    "# print(aqi.columns)\n",
    "\n",
    "# as a \"one liner\" you could achieve this column name cleaning like this:\n",
    "# aqi.columns = aqi.columns.str.lower().str.replace(' ','_')\n",
    "\n",
    "# select data from Santa Barbara\n",
    "aqi_sb = aqi[aqi['county_name'] == 'Santa Barbara']\n",
    "\n",
    "# select columns to remove\n",
    "remove = ['state_name', 'county_name', 'state_code', 'county_code']\n",
    "\n",
    "# update aqi_sb by removing columns\n",
    "aqi_sb = aqi_sb.drop(columns = remove)\n",
    "\n",
    "# display the data types of the columns\n",
    "# print(aqi_sb.dtypes)\n",
    "\n",
    "# update date column to be a datetime object\n",
    "aqi_sb['date'] = pd.to_datetime(aqi_sb['date'])\n",
    "\n",
    "# set the date column as the index\n",
    "aqi_sb = aqi_sb.set_index('date')\n",
    "\n",
    "# check the index of aqi_sb\n",
    "# print(aqi_sb.index)\n",
    "\n",
    "# display the dtype of the index\n",
    "# print(\"The dtype of the index is:\", aqi_sb.index.dtype)\n",
    "\n",
    "# rolling() is a method for pandas.series that provides rolling window calculations\n",
    "# the parameter '5D' indicates we want the window to be 5 days\n",
    "# This is a lazy method (think groupby), we need to specify what we want to calculate over each window\n",
    "# here we add the aggregator function mean()\n",
    "# this indicates we want the mean over each window\n",
    "# and we get a pd.Series as ouput\n",
    "aqi_sb.aqi.rolling('5D').mean()\n",
    "\n",
    "# create new column for 5-day rolling window mean\n",
    "aqi_sb['five_day_average'] = aqi_sb.aqi.rolling('5D').mean()\n",
    "\n",
    "# plot daily AQI\n",
    "aqi_sb['aqi'].plot(label='Daily AQI', color='blue')\n",
    "\n",
    "# plot 5-day average AQI\n",
    "aqi_sb['five_day_average'].plot(label='5-Day Average AQI', color='orange', linewidth=2)\n",
    "\n",
    "# add vertical line in Dec 2017\n",
    "plt.axvline(pd.Timestamp('2017-12-01'), color='black', linestyle='--', label='Start of December 2017')\n",
    "\n",
    "# label chart accordingly\n",
    "plt.title('Daily AQI vs. 5-Day Average AQI')\n",
    "plt.xlabel('Date')\n",
    "plt.ylabel('AQI Value')\n",
    "plt.legend()\n",
    "\n",
    "# display plot\n",
    "plt.show()"
   ]
  },
  {
   "cell_type": "markdown",
   "metadata": {},
   "source": [
    "## 1\n",
    "\n",
    "1. Go to [EPA's website on Air Quality Data Collected at Outdoor Monitors Across the US](https://www.epa.gov/outdoor-air-quality-data). \n",
    "2. Under \"Donwload Data\" click on \"Pre-generated Data Files\"\n",
    "3. Click on \"Tables of Daily AQI\"\n",
    "4. Copy the URL to the 2017 Daily AQI **by County** zip file `daily_aqi_by_county_2017.zip`\n",
    "5. In the next code cell read in the data from the URL using the `pd.read_csv` function and store it as `aqi_17`. \n",
    "6. In the same cell, read in the data for the 2018 Daily AQI by County zip file and store it as `aqi_18`."
   ]
  },
  {
   "cell_type": "code",
   "execution_count": null,
   "metadata": {
    "tags": []
   },
   "outputs": [],
   "source": [
    "# import pandas library\n",
    "import pandas as pd\n",
    "\n",
    "# read in data\n",
    "aqi_17 = pd.read_csv(\"https://aqs.epa.gov/aqsweb/airdata/daily_aqi_by_county_2017.zip\")\n",
    "aqi_18 = pd.read_csv(\"https://aqs.epa.gov/aqsweb/airdata/daily_aqi_by_county_2018.zip\")"
   ]
  },
  {
   "cell_type": "markdown",
   "metadata": {},
   "source": [
    "## 2 \n",
    "(a) and (b) Use the next two cells to look at the head of both data frames.\n",
    "\n",
    "(c) Use this cell to make some other preliminary data exploration of your choosing."
   ]
  },
  {
   "cell_type": "code",
   "execution_count": null,
   "metadata": {
    "tags": []
   },
   "outputs": [],
   "source": [
    "# show head of aqi_17\n",
    "aqi_17.head"
   ]
  },
  {
   "cell_type": "code",
   "execution_count": null,
   "metadata": {
    "tags": []
   },
   "outputs": [],
   "source": [
    "# show head of aqi_18\n",
    "aqi_18.head"
   ]
  },
  {
   "cell_type": "code",
   "execution_count": null,
   "metadata": {
    "tags": []
   },
   "outputs": [],
   "source": [
    "# get datatypes of each column for each data set\n",
    "dtypes_17 = aqi_17.dtypes\n",
    "dtypes_18 = aqi_18.dtypes\n",
    "\n",
    "# show results\n",
    "print(dtypes_17)\n",
    "print(dtypes_18)\n",
    "\n",
    "# store info of each data set\n",
    "info_17 = aqi_17.info\n",
    "info_18 = aqi_18.info\n",
    "\n",
    "# show results\n",
    "print(info_17)\n",
    "print(info_18)"
   ]
  },
  {
   "cell_type": "markdown",
   "metadata": {},
   "source": [
    "## 3\n",
    "We currently have two separate dataframes. For this exercise we will need to \"glue\" them one on top of the other. The pandas function `pd.concat()` can achieve this. \n",
    "\n",
    "Pass `[aqi_17, aqi_18]` as the input of `pd.concat()` and store the output as  `aqi`.  \n",
    "In the next line run `aqi`.\n",
    "\n",
    "👀 NOTE: When we concatenate like this, without any extra parameters for `pd.concat()` the indices for the two dataframes are just \"glued together\", the index of the resulting dataframe is not updated to start from 0. Notice the index of `aqi` ends in 327536 while it has 654338 rows.\n"
   ]
  },
  {
   "cell_type": "code",
   "execution_count": null,
   "metadata": {},
   "outputs": [],
   "source": [
    "# concatenate the two data frames\n",
    "aqi = pd.concat([aqi_17, aqi_18])\n",
    "\n",
    "aqi"
   ]
  },
  {
   "cell_type": "markdown",
   "metadata": {},
   "source": [
    "## 4\n",
    "\n",
    "Run the follwoing cell and read the comments to understand how the column names are being updated."
   ]
  },
  {
   "cell_type": "code",
   "execution_count": null,
   "metadata": {},
   "outputs": [],
   "source": [
    "# initial column names: notice caps and spaces (difficult to work with!)\n",
    "print(aqi.columns, '\\n')\n",
    "\n",
    "# re-assign the column names - .str.lower() makes them lower case\n",
    "aqi.columns = aqi.columns.str.lower()\n",
    "print(aqi.columns, '\\n')\n",
    "\n",
    "#  re-assign the column names again - .str.replace(' ','_') replaces the space for _\n",
    "aqi.columns = aqi.columns.str.replace(' ','_')\n",
    "print(aqi.columns)\n",
    "\n",
    "# as a \"one liner\" you could achieve this column name cleaning like this:\n",
    "# aqi.columns = aqi.columns.str.lower().str.replace(' ','_')"
   ]
  },
  {
   "cell_type": "markdown",
   "metadata": {},
   "source": [
    "## 5 \n",
    "In the next cell:\n",
    "- Select only data from `Santa Barbara` county and store in a new variable `aqi_sb`.\n",
    "- Remove the `state_name`, `county_name`, `state_code` and `county_code` columns from `aqi_sb`. \n",
    "- Use the `dtypes` attribute to check the data types of the columns. What do you notice for the date column?"
   ]
  },
  {
   "cell_type": "code",
   "execution_count": null,
   "metadata": {},
   "outputs": [],
   "source": [
    "# select data from Santa Barbara\n",
    "aqi_sb = aqi[aqi['county_name'] == 'Santa Barbara']\n",
    "\n",
    "# select columns to remove\n",
    "remove = ['state_name', 'county_name', 'state_code', 'county_code']\n",
    "\n",
    "# update aqi_sb by removing columns\n",
    "aqi_sb = aqi_sb.drop(columns = remove)\n",
    "\n",
    "# display the data types of the columns\n",
    "print(aqi_sb.dtypes)\n"
   ]
  },
  {
   "cell_type": "markdown",
   "metadata": {},
   "source": [
    "The date column is an object! I feel like it should be stored as a datetime..."
   ]
  },
  {
   "cell_type": "markdown",
   "metadata": {},
   "source": [
    "## 6\n",
    "In the next cell:\n",
    "1. Update the date column of `aqi_sb` to be a datetime object.\n",
    "2. Update the index of `aqi_sb` to be the date column."
   ]
  },
  {
   "cell_type": "code",
   "execution_count": null,
   "metadata": {},
   "outputs": [],
   "source": [
    "# update date column to be a datetime object\n",
    "aqi_sb['date'] = pd.to_datetime(aqi_sb['date'])\n",
    "\n",
    "# set the date column as the index\n",
    "aqi_sb = aqi_sb.set_index('date')"
   ]
  },
  {
   "cell_type": "markdown",
   "metadata": {},
   "source": [
    "## 7\n",
    "In the next cell, check that you've updated the index by accessing the index of `aqi_sb`  by running `aqi_sb.index`. Add in a comment what is the data type (dtype) of the index."
   ]
  },
  {
   "cell_type": "code",
   "execution_count": null,
   "metadata": {},
   "outputs": [],
   "source": [
    "# check the index of aqi_sb\n",
    "print(aqi_sb.index)\n",
    "\n",
    "# dis[;ay the dtype of the index\n",
    "print(\"The dtype of the index is:\", aqi_sb.index.dtype)"
   ]
  },
  {
   "cell_type": "markdown",
   "metadata": {},
   "source": [
    "## 8\n",
    "Run the next cell and read through the comments. They will explain how to do make an average over a rolling window.\n",
    "\n",
    "- We can createCreate a new variable `five_day_average` with the mean of the AQI over a 5-day rolling window. To do this use the `rolling`\n",
    "- \n",
    "\n",
    "https://pandas.pydata.org/pandas-docs/stable/reference/api/pandas.Series.rolling.html\n"
   ]
  },
  {
   "cell_type": "code",
   "execution_count": null,
   "metadata": {},
   "outputs": [],
   "source": [
    "# rolling() is a method for pandas.series that provides rolling window calculations\n",
    "# the parameter '5D' indicates we want the window to be 5 days\n",
    "# This is a lazy method (think groupby), we need to specify what we want to calculate over each window\n",
    "# here we add the aggregator function mean()\n",
    "# this indicates we want the mean over each window\n",
    "# and we get a pd.Series as ouput\n",
    "aqi_sb.aqi.rolling('5D').mean()"
   ]
  },
  {
   "cell_type": "markdown",
   "metadata": {},
   "source": [
    "## 9 \n",
    "\n",
    "Without creating any new variables, add the mean of the AQI over a 5-day rolling window as a new column named 'five_day_average' to the `aqi_sb` dataframe. "
   ]
  },
  {
   "cell_type": "code",
   "execution_count": null,
   "metadata": {},
   "outputs": [],
   "source": [
    "# create new column for 5-day rolling window mean\n",
    "aqi_sb['five_day_average'] = aqi_sb.aqi.rolling('5D').mean()"
   ]
  },
  {
   "cell_type": "markdown",
   "metadata": {},
   "source": [
    "## 10\n",
    "Make a line plot showing both the daily AQI and the 5-day average (5-day average on top of the AQI). Update the title and colors of the graph. Can you see the AQI going up during the Thomas Fire in December 2017?"
   ]
  },
  {
   "cell_type": "code",
   "execution_count": null,
   "metadata": {},
   "outputs": [],
   "source": [
    "# import necessary library\n",
    "import matplotlib.pyplot as plt\n",
    "\n",
    "# plot daily AQI\n",
    "aqi_sb['aqi'].plot(label='Daily AQI', color='blue')\n",
    "\n",
    "# plot 5-day average AQI\n",
    "aqi_sb['five_day_average'].plot(label='5-Day Average AQI', color='orange', linewidth=2)\n",
    "\n",
    "# add vertical line in Dec 2017\n",
    "plt.axvline(pd.Timestamp('2017-12-01'), color='black', linestyle='--', label='Start of December 2017')\n",
    "\n",
    "# label chart accordingly\n",
    "plt.title('Daily AQI vs. 5-Day Average AQI')\n",
    "plt.xlabel('Date')\n",
    "plt.ylabel('AQI Value')\n",
    "plt.legend()\n",
    "\n",
    "# display plot\n",
    "plt.show()\n"
   ]
  },
  {
   "cell_type": "markdown",
   "metadata": {},
   "source": [
    "## 11\n",
    "\n",
    "Collect all the relevant code into the first blank cell of the notebook titled \"FINAL CODE\". This single cell will have the end-to-end workflow: from importing libraries and loading the data, to producing the graph. The *only* ouput of this cell should be the graph you produced in the previous exercise. For each line, add a single comment explaining what the code does."
   ]
  }
 ],
 "metadata": {
  "kernelspec": {
   "display_name": "Python 3 (ipykernel)",
   "language": "python",
   "name": "python3"
  },
  "language_info": {
   "codemirror_mode": {
    "name": "ipython",
    "version": 3
   },
   "file_extension": ".py",
   "mimetype": "text/x-python",
   "name": "python",
   "nbconvert_exporter": "python",
   "pygments_lexer": "ipython3",
   "version": "3.7.13"
  },
  "vscode": {
   "interpreter": {
    "hash": "096ff075efa46b48fdc6093cb088d328f1206dfedfbeb0f42cf6b14174f51118"
   }
  }
 },
 "nbformat": 4,
 "nbformat_minor": 4
}
